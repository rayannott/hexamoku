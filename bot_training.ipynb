{
 "cells": [
  {
   "cell_type": "markdown",
   "metadata": {},
   "source": [
    "## RL"
   ]
  },
  {
   "cell_type": "code",
   "execution_count": 1,
   "metadata": {
    "metadata": {}
   },
   "outputs": [
    {
     "name": "stdout",
     "output_type": "stream",
     "text": [
      "pygame-ce 2.5.2 (SDL 2.30.8, Python 3.13.0)\n"
     ]
    }
   ],
   "source": [
    "from hexagon import HexagonalGrid"
   ]
  },
  {
   "cell_type": "code",
   "execution_count": 6,
   "metadata": {
    "metadata": {}
   },
   "outputs": [],
   "source": [
    "grid = HexagonalGrid(6)\n",
    "grid.randomize_grid()"
   ]
  },
  {
   "cell_type": "code",
   "execution_count": 7,
   "metadata": {
    "metadata": {}
   },
   "outputs": [
    {
     "data": {
      "text/plain": [
       "array([[0, 0, 1, 1, 1, 1, 1, 0, 1, 1, 1, 1, 0, 1, 1, 1, 1, 1, 0, 1, 1, 1,\n",
       "        1, 1, 1, 1, 1, 1, 1, 1, 1, 1, 1, 1, 1, 1, 1, 1, 0, 0, 1, 1, 1, 1,\n",
       "        1, 1, 1, 1, 1, 0, 0, 1, 1, 1, 1, 1, 1, 1, 1, 1, 1, 1, 1, 1, 1, 1,\n",
       "        1, 1, 0, 1, 0, 1, 0, 1, 0, 1, 1, 1, 1, 1, 1, 0, 1, 1, 1, 1, 1, 0,\n",
       "        1, 1, 1],\n",
       "       [0, 0, 0, 0, 0, 0, 0, 0, 0, 0, 0, 0, 0, 0, 0, 0, 0, 0, 0, 0, 0, 0,\n",
       "        0, 0, 0, 0, 0, 0, 0, 0, 0, 0, 0, 0, 0, 0, 0, 0, 0, 0, 0, 0, 0, 0,\n",
       "        0, 0, 0, 0, 0, 0, 1, 0, 0, 0, 0, 0, 0, 0, 0, 0, 0, 0, 0, 0, 0, 0,\n",
       "        0, 0, 1, 0, 0, 0, 0, 0, 0, 0, 0, 0, 0, 0, 0, 0, 0, 0, 0, 0, 0, 1,\n",
       "        0, 0, 0],\n",
       "       [1, 1, 0, 0, 0, 0, 0, 1, 0, 0, 0, 0, 1, 0, 0, 0, 0, 0, 1, 0, 0, 0,\n",
       "        0, 0, 0, 0, 0, 0, 0, 0, 0, 0, 0, 0, 0, 0, 0, 0, 1, 1, 0, 0, 0, 0,\n",
       "        0, 0, 0, 0, 0, 1, 0, 0, 0, 0, 0, 0, 0, 0, 0, 0, 0, 0, 0, 0, 0, 0,\n",
       "        0, 0, 0, 0, 1, 0, 1, 0, 1, 0, 0, 0, 0, 0, 0, 1, 0, 0, 0, 0, 0, 0,\n",
       "        0, 0, 0]], dtype=int8)"
      ]
     },
     "execution_count": 7,
     "metadata": {},
     "output_type": "execute_result"
    }
   ],
   "source": [
    "grid.to_numpy()"
   ]
  },
  {
   "cell_type": "code",
   "execution_count": 8,
   "metadata": {
    "metadata": {}
   },
   "outputs": [
    {
     "data": {
      "text/plain": [
       "91"
      ]
     },
     "execution_count": 8,
     "metadata": {},
     "output_type": "execute_result"
    }
   ],
   "source": [
    "len(grid.hexagons)"
   ]
  },
  {
   "cell_type": "code",
   "execution_count": null,
   "metadata": {},
   "outputs": [],
   "source": [
    "import torch\n",
    "import torch.nn as nn\n",
    "\n",
    "CONV_HIDDEN_CHANNELS = 64\n",
    "LINEAR_HIDDEN_SIZE = 128\n",
    "FLATTENED_BOARD_SIZE = 91\n",
    "\n",
    "class GameModel(nn.Module):\n",
    "    def __init__(self):\n",
    "        super(GameModel, self).__init__()\n",
    "        self.conv1 = nn.Conv1d(3, CONV_HIDDEN_CHANNELS, kernel_size=3, padding=1)  # 3 channels for the board\n",
    "        self.conv2 = nn.Conv1d(CONV_HIDDEN_CHANNELS, CONV_HIDDEN_CHANNELS, kernel_size=3, padding=1)\n",
    "        self.fc1 = nn.Linear(CONV_HIDDEN_CHANNELS * FLATTENED_BOARD_SIZE, LINEAR_HIDDEN_SIZE)\n",
    "        self.fc2 = nn.Linear(LINEAR_HIDDEN_SIZE, FLATTENED_BOARD_SIZE)  # Output logits for each cell\n",
    "\n",
    "    def forward(self, x):\n",
    "        x = torch.relu(self.conv1(x))\n",
    "        x = torch.relu(self.conv2(x))\n",
    "        x = x.view(x.size(0), -1)\n",
    "        x = torch.relu(self.fc1(x))\n",
    "        return self.fc2(x)  # Returns logits for each position on the board\n"
   ]
  },
  {
   "cell_type": "code",
   "execution_count": null,
   "metadata": {},
   "outputs": [],
   "source": [
    "# Instantiate player-specific models and optimizers\n",
    "player1_model = GameModel()\n",
    "player2_model = GameModel()\n",
    "optimizer1 = optim.Adam(player1_model.parameters(), lr=0.001)\n",
    "optimizer2 = optim.Adam(player2_model.parameters(), lr=0.001)\n",
    "\n",
    "# Define memory buffers for each player\n",
    "memory1 = deque(maxlen=10000)\n",
    "memory2 = deque(maxlen=10000)\n",
    "\n",
    "# Self-play training loop\n",
    "for episode in range(total_episodes):\n",
    "    game_state = initialize_game()\n",
    "    done = False\n",
    "    current_player = 1\n",
    "\n",
    "    while not done:\n",
    "        if current_player == 1:\n",
    "            action = choose_action(player1_model, game_state)  # Choose action for player 1\n",
    "            new_state, reward, done = step(game_state, action)\n",
    "            memory1.append((game_state, action, reward, new_state, done))\n",
    "            game_state = new_state\n",
    "            current_player = 2\n",
    "        else:\n",
    "            action = choose_action(player2_model, game_state)  # Choose action for player 2\n",
    "            new_state, reward, done = step(game_state, action)\n",
    "            memory2.append((game_state, action, -reward, new_state, done))  # Negative reward for player 1's loss\n",
    "            game_state = new_state\n",
    "            current_player = 1\n",
    "\n",
    "        # Training steps (periodically, or every few episodes)\n",
    "        if len(memory1) > batch_size and current_player == 1:\n",
    "            batch1 = random.sample(memory1, batch_size)\n",
    "            train_on_batch(player1_model, batch1, optimizer1)\n",
    "\n",
    "        if len(memory2) > batch_size and current_player == 2:\n",
    "            batch2 = random.sample(memory2, batch_size)\n",
    "            train_on_batch(player2_model, batch2, optimizer2)"
   ]
  }
 ],
 "metadata": {
  "kernelspec": {
   "display_name": "venv",
   "language": "python",
   "name": "python3"
  },
  "language_info": {
   "codemirror_mode": {
    "name": "ipython",
    "version": 3
   },
   "file_extension": ".py",
   "mimetype": "text/x-python",
   "name": "python",
   "nbconvert_exporter": "python",
   "pygments_lexer": "ipython3",
   "version": "3.13.0"
  }
 },
 "nbformat": 4,
 "nbformat_minor": 2
}
