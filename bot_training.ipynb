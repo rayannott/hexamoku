{
 "cells": [
  {
   "cell_type": "code",
   "execution_count": 1,
   "metadata": {
    "metadata": {}
   },
   "outputs": [
    {
     "name": "stdout",
     "output_type": "stream",
     "text": [
      "pygame-ce 2.5.2 (SDL 2.30.8, Python 3.13.0)\n"
     ]
    }
   ],
   "source": [
    "import numpy as np\n",
    "\n",
    "from hexagon import HexagonalGrid"
   ]
  },
  {
   "cell_type": "code",
   "execution_count": 2,
   "metadata": {
    "metadata": {}
   },
   "outputs": [],
   "source": [
    "grid = HexagonalGrid(6)\n",
    "grid.randomize_grid()"
   ]
  },
  {
   "cell_type": "code",
   "execution_count": 3,
   "metadata": {
    "metadata": {}
   },
   "outputs": [],
   "source": [
    "npg = grid.to_numpy()"
   ]
  },
  {
   "cell_type": "code",
   "execution_count": 4,
   "metadata": {
    "metadata": {}
   },
   "outputs": [
    {
     "data": {
      "text/plain": [
       "array([0, 1, 0, 1, 1, 1, 1, 0, 1, 1, 1, 1, 0, 1, 0, 0, 1, 1, 1, 1, 1, 1,\n",
       "       1, 1, 1, 1, 1, 1, 1, 0, 1, 1, 1, 1, 1, 1, 1, 1, 0, 1, 1, 1, 1, 1,\n",
       "       1, 0, 1, 1, 0, 1, 1, 1, 1, 1, 1, 0, 1, 1, 0, 0, 0, 1, 1, 0, 0, 1,\n",
       "       1, 1, 1, 1, 1, 0, 1, 1, 1, 1, 0, 1, 1, 1, 0, 1, 1, 1, 1, 1, 1, 1,\n",
       "       1, 1, 1, 0, 0, 1, 0, 0, 0, 0, 1, 0, 0, 0, 0, 0, 0, 1, 0, 0, 0, 0,\n",
       "       0, 0, 0, 0, 0, 0, 0, 0, 0, 0, 1, 0, 0, 0, 0, 0, 0, 0, 0, 1, 0, 0,\n",
       "       0, 0, 0, 0, 0, 0, 0, 1, 0, 0, 0, 0, 0, 0, 1, 0, 0, 0, 1, 1, 0, 0,\n",
       "       1, 1, 0, 0, 0, 0, 0, 0, 1, 0, 0, 0, 0, 0, 0, 0, 0, 1, 0, 0, 0, 0,\n",
       "       0, 0, 0, 0, 0, 0, 1, 0, 0, 0, 0, 0, 0, 0, 0, 0, 0, 0, 1, 0, 0, 1,\n",
       "       0, 0, 0, 0, 0, 0, 0, 0, 0, 0, 0, 0, 0, 0, 0, 0, 0, 0, 0, 0, 0, 0,\n",
       "       0, 0, 0, 0, 0, 0, 0, 1, 0, 0, 0, 0, 0, 0, 0, 0, 0, 0, 0, 0, 1, 0,\n",
       "       0, 0, 0, 0, 0, 0, 0, 0, 0, 0, 0, 0, 0, 0, 0, 0, 1, 0, 0, 0, 0, 0,\n",
       "       0, 0, 0, 0, 0, 0, 0, 0, 0], dtype=int8)"
      ]
     },
     "execution_count": 4,
     "metadata": {},
     "output_type": "execute_result"
    }
   ],
   "source": [
    "npg.flatten()"
   ]
  },
  {
   "cell_type": "markdown",
   "metadata": {},
   "source": [
    "## Genetic"
   ]
  },
  {
   "cell_type": "code",
   "execution_count": 79,
   "metadata": {
    "metadata": {}
   },
   "outputs": [],
   "source": [
    "S = 91\n",
    "H = 128\n",
    "MUTATION_SCALE = 0.1\n",
    "\n",
    "\n",
    "def relu(x: np.ndarray) -> np.ndarray:\n",
    "    return np.maximum(0, x)\n",
    "\n",
    "\n",
    "def softmax(x):\n",
    "    z = x - max(x)\n",
    "    numerator = np.exp(z)\n",
    "    denominator = np.sum(numerator)\n",
    "    softmax = numerator / denominator\n",
    "    return softmax\n",
    "\n",
    "\n",
    "class Entity:\n",
    "    def __init__(\n",
    "        self,\n",
    "        weights1: np.ndarray | None = None,\n",
    "        weights2: np.ndarray | None = None,\n",
    "        generation: int = 0,\n",
    "    ):\n",
    "        self.weights1 = np.random.randn(3 * S, H) if weights1 is None else weights1\n",
    "        self.weights2 = np.random.randn(H, S) if weights2 is None else weights2\n",
    "        self.generation = generation\n",
    "        self.score = 0\n",
    "\n",
    "    def mutated(self) -> \"Entity\":\n",
    "        return Entity(\n",
    "            self.weights1 + MUTATION_SCALE * np.random.randn(3 * S, H),\n",
    "            self.weights2 + MUTATION_SCALE * np.random.randn(H, S),\n",
    "            self.generation + 1,\n",
    "        )\n",
    "\n",
    "    def __call__(self, board: np.ndarray) -> np.ndarray:\n",
    "        return softmax(np.dot(np.dot(board, self.weights1), self.weights2))"
   ]
  },
  {
   "cell_type": "markdown",
   "metadata": {},
   "source": [
    "### Dummy objective"
   ]
  },
  {
   "cell_type": "code",
   "execution_count": 38,
   "metadata": {
    "metadata": {}
   },
   "outputs": [],
   "source": [
    "# learn to pick the first hexagon in the empty grid\n",
    "EPOCHS = 100\n",
    "\n",
    "grid = HexagonalGrid(6)\n",
    "population = [Entity() for _ in range(100)]\n",
    "\n",
    "for epoch in range(EPOCHS):\n",
    "    for entity in population:\n",
    "        prediction = entity(grid.to_numpy().flatten())\n",
    "        entity.score += prediction[0]\n",
    "\n",
    "    population.sort(key=lambda x: x.score, reverse=True)\n",
    "    population = population[:50]\n",
    "\n",
    "    new_population = []\n",
    "    for entity in population:\n",
    "        new_population.append(entity.mutated())\n",
    "\n",
    "    population += new_population"
   ]
  },
  {
   "cell_type": "code",
   "execution_count": 39,
   "metadata": {
    "metadata": {}
   },
   "outputs": [],
   "source": [
    "population.sort(key=lambda x: x.score, reverse=True)"
   ]
  },
  {
   "cell_type": "code",
   "execution_count": 42,
   "metadata": {
    "metadata": {}
   },
   "outputs": [
    {
     "name": "stdout",
     "output_type": "stream",
     "text": [
      "The probability to pick the first hexagon is 99.990183%\n"
     ]
    }
   ],
   "source": [
    "emp_grid = HexagonalGrid(6)\n",
    "print(f'The probability to pick the first hexagon is {population[0](emp_grid.to_numpy().flatten())[0]:%}')"
   ]
  },
  {
   "cell_type": "markdown",
   "metadata": {},
   "source": [
    "### Learning"
   ]
  },
  {
   "cell_type": "code",
   "execution_count": 80,
   "metadata": {
    "metadata": {}
   },
   "outputs": [],
   "source": [
    "from game import Game\n",
    "from hexagon import State"
   ]
  },
  {
   "cell_type": "code",
   "execution_count": 81,
   "metadata": {
    "metadata": {}
   },
   "outputs": [],
   "source": [
    "def play_one_game(player1: Entity, player2: Entity, verbose: bool = False):\n",
    "    game = Game(6)\n",
    "    while not game.is_over:\n",
    "        if game.current_player == State.ONE:\n",
    "            move = np.argmax(player1(game.grid.to_numpy().flatten()))\n",
    "        else:\n",
    "            move = np.argmax(player2(game.grid.to_numpy().flatten()))\n",
    "        hex_ = game.grid.at(game.grid.coordinates_lst[move])\n",
    "        move_verdict = game.move(hex_)\n",
    "        if verbose:\n",
    "            print(f\"{game.current_player} -> {hex_} ({move_verdict})\")\n",
    "        if not move_verdict:\n",
    "            if game.current_player == State.ONE:\n",
    "                player1.score -= 1\n",
    "            else:\n",
    "                player2.score -= 1\n",
    "            break\n",
    "\n",
    "    if game.verdict == State.ONE:\n",
    "        player1.score += 1\n",
    "        player2.score -= 1\n",
    "    elif game.verdict == State.TWO:\n",
    "        player1.score -= 1\n",
    "        player2.score += 1"
   ]
  },
  {
   "cell_type": "code",
   "execution_count": 82,
   "metadata": {
    "metadata": {}
   },
   "outputs": [
    {
     "name": "stdout",
     "output_type": "stream",
     "text": [
      "First move cannot be in the center\n",
      "First move cannot be in the center\n",
      "First move cannot be in the center\n",
      "First move cannot be in the center\n",
      "First move cannot be in the center\n",
      "First move cannot be in the center\n",
      "First move cannot be in the center\n",
      "First move cannot be in the center\n",
      "First move cannot be in the center\n",
      "First move cannot be in the center\n",
      "First move cannot be in the center\n",
      "First move cannot be in the center\n",
      "First move cannot be in the center\n",
      "First move cannot be in the center\n",
      "First move cannot be in the center\n",
      "First move cannot be in the center\n",
      "First move cannot be in the center\n",
      "First move cannot be in the center\n",
      "First move cannot be in the center\n",
      "First move cannot be in the center\n",
      "First move cannot be in the center\n",
      "First move cannot be in the center\n",
      "First move cannot be in the center\n",
      "First move cannot be in the center\n",
      "First move cannot be in the center\n",
      "First move cannot be in the center\n",
      "First move cannot be in the center\n",
      "First move cannot be in the center\n",
      "First move cannot be in the center\n",
      "First move cannot be in the center\n",
      "First move cannot be in the center\n",
      "First move cannot be in the center\n",
      "First move cannot be in the center\n",
      "First move cannot be in the center\n",
      "First move cannot be in the center\n",
      "First move cannot be in the center\n",
      "First move cannot be in the center\n",
      "First move cannot be in the center\n",
      "First move cannot be in the center\n",
      "First move cannot be in the center\n"
     ]
    }
   ],
   "source": [
    "from itertools import product\n",
    "\n",
    "player1 = [Entity() for _ in range(20)]\n",
    "player2 = [Entity() for _ in range(20)]\n",
    "\n",
    "EPOCHS = 100\n",
    "\n",
    "for epoch in range(EPOCHS):\n",
    "    for p1, p2 in product(player1, player2):\n",
    "        play_one_game(p1, p2)\n",
    "    \n",
    "    player1.sort(key=lambda x: x.score, reverse=True)\n",
    "    player2.sort(key=lambda x: x.score, reverse=True)\n",
    "\n",
    "    player1 = player1[:10]\n",
    "    player2 = player2[:10]\n",
    "\n",
    "    new_player1 = [p.mutated() for p in player1]\n",
    "    new_player2 = [p.mutated() for p in player2]\n",
    "\n",
    "    player1 += new_player1\n",
    "    player2 += new_player2\n",
    "\n",
    "player1.sort(key=lambda x: x.score, reverse=True)\n",
    "player2.sort(key=lambda x: x.score, reverse=True)"
   ]
  },
  {
   "cell_type": "code",
   "execution_count": 83,
   "metadata": {
    "metadata": {}
   },
   "outputs": [
    {
     "name": "stdout",
     "output_type": "stream",
     "text": [
      "0 0\n"
     ]
    }
   ],
   "source": [
    "best_player1 = player1[0]\n",
    "best_player2 = player2[0]\n",
    "\n",
    "print(best_player1.score, best_player2.score)"
   ]
  },
  {
   "cell_type": "code",
   "execution_count": 75,
   "metadata": {
    "metadata": {}
   },
   "outputs": [],
   "source": [
    "game = Game(6)"
   ]
  },
  {
   "cell_type": "code",
   "execution_count": 77,
   "metadata": {
    "metadata": {}
   },
   "outputs": [
    {
     "name": "stdout",
     "output_type": "stream",
     "text": [
      "State.TWO -> Hex((-4, 5, -1) ONE) (True)\n",
      "State.ONE -> Hex((2, -3, 1) TWO) (True)\n",
      "State.ONE -> Hex((-4, 5, -1) ONE) (False)\n"
     ]
    }
   ],
   "source": [
    "play_one_game(best_player1, best_player2, verbose=True)"
   ]
  },
  {
   "cell_type": "markdown",
   "metadata": {},
   "source": [
    "## RL"
   ]
  },
  {
   "cell_type": "code",
   "execution_count": null,
   "metadata": {},
   "outputs": [],
   "source": [
    "import torch\n",
    "import torch.nn as nn\n",
    "\n",
    "CONV_HIDDEN_CHANNELS = 64\n",
    "LINEAR_HIDDEN_SIZE = 128\n",
    "FLATTENED_BOARD_SIZE = 91\n",
    "\n",
    "class GameModel(nn.Module):\n",
    "    def __init__(self):\n",
    "        super(GameModel, self).__init__()\n",
    "        self.conv1 = nn.Conv1d(3, CONV_HIDDEN_CHANNELS, kernel_size=3, padding=1)  # 3 channels for the board\n",
    "        self.conv2 = nn.Conv1d(CONV_HIDDEN_CHANNELS, CONV_HIDDEN_CHANNELS, kernel_size=3, padding=1)\n",
    "        self.fc1 = nn.Linear(CONV_HIDDEN_CHANNELS * FLATTENED_BOARD_SIZE, LINEAR_HIDDEN_SIZE)\n",
    "        self.fc2 = nn.Linear(LINEAR_HIDDEN_SIZE, FLATTENED_BOARD_SIZE)  # Output logits for each cell\n",
    "\n",
    "    def forward(self, x):\n",
    "        x = torch.relu(self.conv1(x))\n",
    "        x = torch.relu(self.conv2(x))\n",
    "        x = x.view(x.size(0), -1)\n",
    "        x = torch.relu(self.fc1(x))\n",
    "        return self.fc2(x)  # Returns logits for each position on the board\n"
   ]
  },
  {
   "cell_type": "code",
   "execution_count": null,
   "metadata": {},
   "outputs": [],
   "source": [
    "# Instantiate player-specific models and optimizers\n",
    "player1_model = GameModel()\n",
    "player2_model = GameModel()\n",
    "optimizer1 = optim.Adam(player1_model.parameters(), lr=0.001)\n",
    "optimizer2 = optim.Adam(player2_model.parameters(), lr=0.001)\n",
    "\n",
    "# Define memory buffers for each player\n",
    "memory1 = deque(maxlen=10000)\n",
    "memory2 = deque(maxlen=10000)\n",
    "\n",
    "# Self-play training loop\n",
    "for episode in range(total_episodes):\n",
    "    game_state = initialize_game()\n",
    "    done = False\n",
    "    current_player = 1\n",
    "\n",
    "    while not done:\n",
    "        if current_player == 1:\n",
    "            action = choose_action(player1_model, game_state)  # Choose action for player 1\n",
    "            new_state, reward, done = step(game_state, action)\n",
    "            memory1.append((game_state, action, reward, new_state, done))\n",
    "            game_state = new_state\n",
    "            current_player = 2\n",
    "        else:\n",
    "            action = choose_action(player2_model, game_state)  # Choose action for player 2\n",
    "            new_state, reward, done = step(game_state, action)\n",
    "            memory2.append((game_state, action, -reward, new_state, done))  # Negative reward for player 1's loss\n",
    "            game_state = new_state\n",
    "            current_player = 1\n",
    "\n",
    "        # Training steps (periodically, or every few episodes)\n",
    "        if len(memory1) > batch_size and current_player == 1:\n",
    "            batch1 = random.sample(memory1, batch_size)\n",
    "            train_on_batch(player1_model, batch1, optimizer1)\n",
    "\n",
    "        if len(memory2) > batch_size and current_player == 2:\n",
    "            batch2 = random.sample(memory2, batch_size)\n",
    "            train_on_batch(player2_model, batch2, optimizer2)"
   ]
  }
 ],
 "metadata": {
  "kernelspec": {
   "display_name": "venv",
   "language": "python",
   "name": "python3"
  },
  "language_info": {
   "codemirror_mode": {
    "name": "ipython",
    "version": 3
   },
   "file_extension": ".py",
   "mimetype": "text/x-python",
   "name": "python",
   "nbconvert_exporter": "python",
   "pygments_lexer": "ipython3",
   "version": "3.13.0"
  }
 },
 "nbformat": 4,
 "nbformat_minor": 2
}
